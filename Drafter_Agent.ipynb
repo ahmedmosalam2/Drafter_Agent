{
  "nbformat": 4,
  "nbformat_minor": 0,
  "metadata": {
    "colab": {
      "provenance": [],
      "gpuType": "T4"
    },
    "kernelspec": {
      "name": "python3",
      "display_name": "Python 3"
    },
    "language_info": {
      "name": "python"
    },
    "accelerator": "GPU"
  },
  "cells": [
    {
      "cell_type": "code",
      "source": [
        "!pip install langchain_groq\n",
        "!pip install langgraph"
      ],
      "metadata": {
        "colab": {
          "base_uri": "https://localhost:8080/"
        },
        "collapsed": true,
        "id": "TZI8erdz9_fb",
        "outputId": "5ff47995-24da-4303-851e-b18ce7e847f8"
      },
      "execution_count": null,
      "outputs": [
        {
          "output_type": "stream",
          "name": "stdout",
          "text": [
            "Collecting langchain_groq\n",
            "  Downloading langchain_groq-1.0.0-py3-none-any.whl.metadata (1.7 kB)\n",
            "Collecting groq<1.0.0,>=0.30.0 (from langchain_groq)\n",
            "  Downloading groq-0.33.0-py3-none-any.whl.metadata (16 kB)\n",
            "Collecting langchain-core<2.0.0,>=1.0.0 (from langchain_groq)\n",
            "  Downloading langchain_core-1.0.0-py3-none-any.whl.metadata (3.4 kB)\n",
            "Requirement already satisfied: anyio<5,>=3.5.0 in /usr/local/lib/python3.12/dist-packages (from groq<1.0.0,>=0.30.0->langchain_groq) (4.11.0)\n",
            "Requirement already satisfied: distro<2,>=1.7.0 in /usr/local/lib/python3.12/dist-packages (from groq<1.0.0,>=0.30.0->langchain_groq) (1.9.0)\n",
            "Requirement already satisfied: httpx<1,>=0.23.0 in /usr/local/lib/python3.12/dist-packages (from groq<1.0.0,>=0.30.0->langchain_groq) (0.28.1)\n",
            "Requirement already satisfied: pydantic<3,>=1.9.0 in /usr/local/lib/python3.12/dist-packages (from groq<1.0.0,>=0.30.0->langchain_groq) (2.11.10)\n",
            "Requirement already satisfied: sniffio in /usr/local/lib/python3.12/dist-packages (from groq<1.0.0,>=0.30.0->langchain_groq) (1.3.1)\n",
            "Requirement already satisfied: typing-extensions<5,>=4.10 in /usr/local/lib/python3.12/dist-packages (from groq<1.0.0,>=0.30.0->langchain_groq) (4.15.0)\n",
            "Requirement already satisfied: jsonpatch<2.0.0,>=1.33.0 in /usr/local/lib/python3.12/dist-packages (from langchain-core<2.0.0,>=1.0.0->langchain_groq) (1.33)\n",
            "Requirement already satisfied: langsmith<1.0.0,>=0.3.45 in /usr/local/lib/python3.12/dist-packages (from langchain-core<2.0.0,>=1.0.0->langchain_groq) (0.4.37)\n",
            "Requirement already satisfied: packaging<26.0.0,>=23.2.0 in /usr/local/lib/python3.12/dist-packages (from langchain-core<2.0.0,>=1.0.0->langchain_groq) (25.0)\n",
            "Requirement already satisfied: pyyaml<7.0.0,>=5.3.0 in /usr/local/lib/python3.12/dist-packages (from langchain-core<2.0.0,>=1.0.0->langchain_groq) (6.0.3)\n",
            "Requirement already satisfied: tenacity!=8.4.0,<10.0.0,>=8.1.0 in /usr/local/lib/python3.12/dist-packages (from langchain-core<2.0.0,>=1.0.0->langchain_groq) (8.5.0)\n",
            "Requirement already satisfied: idna>=2.8 in /usr/local/lib/python3.12/dist-packages (from anyio<5,>=3.5.0->groq<1.0.0,>=0.30.0->langchain_groq) (3.11)\n",
            "Requirement already satisfied: certifi in /usr/local/lib/python3.12/dist-packages (from httpx<1,>=0.23.0->groq<1.0.0,>=0.30.0->langchain_groq) (2025.10.5)\n",
            "Requirement already satisfied: httpcore==1.* in /usr/local/lib/python3.12/dist-packages (from httpx<1,>=0.23.0->groq<1.0.0,>=0.30.0->langchain_groq) (1.0.9)\n",
            "Requirement already satisfied: h11>=0.16 in /usr/local/lib/python3.12/dist-packages (from httpcore==1.*->httpx<1,>=0.23.0->groq<1.0.0,>=0.30.0->langchain_groq) (0.16.0)\n",
            "Requirement already satisfied: jsonpointer>=1.9 in /usr/local/lib/python3.12/dist-packages (from jsonpatch<2.0.0,>=1.33.0->langchain-core<2.0.0,>=1.0.0->langchain_groq) (3.0.0)\n",
            "Requirement already satisfied: orjson>=3.9.14 in /usr/local/lib/python3.12/dist-packages (from langsmith<1.0.0,>=0.3.45->langchain-core<2.0.0,>=1.0.0->langchain_groq) (3.11.3)\n",
            "Requirement already satisfied: requests-toolbelt>=1.0.0 in /usr/local/lib/python3.12/dist-packages (from langsmith<1.0.0,>=0.3.45->langchain-core<2.0.0,>=1.0.0->langchain_groq) (1.0.0)\n",
            "Requirement already satisfied: requests>=2.0.0 in /usr/local/lib/python3.12/dist-packages (from langsmith<1.0.0,>=0.3.45->langchain-core<2.0.0,>=1.0.0->langchain_groq) (2.32.4)\n",
            "Requirement already satisfied: zstandard>=0.23.0 in /usr/local/lib/python3.12/dist-packages (from langsmith<1.0.0,>=0.3.45->langchain-core<2.0.0,>=1.0.0->langchain_groq) (0.25.0)\n",
            "Requirement already satisfied: annotated-types>=0.6.0 in /usr/local/lib/python3.12/dist-packages (from pydantic<3,>=1.9.0->groq<1.0.0,>=0.30.0->langchain_groq) (0.7.0)\n",
            "Requirement already satisfied: pydantic-core==2.33.2 in /usr/local/lib/python3.12/dist-packages (from pydantic<3,>=1.9.0->groq<1.0.0,>=0.30.0->langchain_groq) (2.33.2)\n",
            "Requirement already satisfied: typing-inspection>=0.4.0 in /usr/local/lib/python3.12/dist-packages (from pydantic<3,>=1.9.0->groq<1.0.0,>=0.30.0->langchain_groq) (0.4.2)\n",
            "Requirement already satisfied: charset_normalizer<4,>=2 in /usr/local/lib/python3.12/dist-packages (from requests>=2.0.0->langsmith<1.0.0,>=0.3.45->langchain-core<2.0.0,>=1.0.0->langchain_groq) (3.4.4)\n",
            "Requirement already satisfied: urllib3<3,>=1.21.1 in /usr/local/lib/python3.12/dist-packages (from requests>=2.0.0->langsmith<1.0.0,>=0.3.45->langchain-core<2.0.0,>=1.0.0->langchain_groq) (2.5.0)\n",
            "Downloading langchain_groq-1.0.0-py3-none-any.whl (16 kB)\n",
            "Downloading groq-0.33.0-py3-none-any.whl (135 kB)\n",
            "\u001b[2K   \u001b[90m━━━━━━━━━━━━━━━━━━━━━━━━━━━━━━━━━━━━━━━━\u001b[0m \u001b[32m135.8/135.8 kB\u001b[0m \u001b[31m13.5 MB/s\u001b[0m eta \u001b[36m0:00:00\u001b[0m\n",
            "\u001b[?25hDownloading langchain_core-1.0.0-py3-none-any.whl (467 kB)\n",
            "\u001b[2K   \u001b[90m━━━━━━━━━━━━━━━━━━━━━━━━━━━━━━━━━━━━━━━━\u001b[0m \u001b[32m467.2/467.2 kB\u001b[0m \u001b[31m42.7 MB/s\u001b[0m eta \u001b[36m0:00:00\u001b[0m\n",
            "\u001b[?25hInstalling collected packages: groq, langchain-core, langchain_groq\n",
            "  Attempting uninstall: langchain-core\n",
            "    Found existing installation: langchain-core 0.3.79\n",
            "    Uninstalling langchain-core-0.3.79:\n",
            "      Successfully uninstalled langchain-core-0.3.79\n",
            "\u001b[31mERROR: pip's dependency resolver does not currently take into account all the packages that are installed. This behaviour is the source of the following dependency conflicts.\n",
            "langchain 0.3.27 requires langchain-core<1.0.0,>=0.3.72, but you have langchain-core 1.0.0 which is incompatible.\u001b[0m\u001b[31m\n",
            "\u001b[0mSuccessfully installed groq-0.33.0 langchain-core-1.0.0 langchain_groq-1.0.0\n"
          ]
        }
      ]
    },
    {
      "cell_type": "code",
      "execution_count": null,
      "metadata": {
        "id": "7tPlDlE9eYgb"
      },
      "outputs": [],
      "source": [
        "from typing import Annotated, Sequence, TypedDict\n",
        "from dotenv import load_dotenv\n",
        "from langchain_core.messages import BaseMessage, HumanMessage, AIMessage, ToolMessage, SystemMessage\n",
        "from langchain_groq import ChatGroq\n",
        "from langchain_core.tools import tool\n",
        "from langgraph.graph.message import add_messages\n",
        "from langgraph.graph import StateGraph, END\n",
        "from langgraph.prebuilt import ToolNode\n",
        "from google.colab import userdata\n",
        "\n",
        "\n",
        "\n"
      ]
    },
    {
      "cell_type": "markdown",
      "source": [
        "*Tools*\n",
        "\n",
        "\n"
      ],
      "metadata": {
        "id": "sMf0jbAOX0px"
      }
    },
    {
      "cell_type": "code",
      "source": [
        "load_dotenv()\n",
        "\n",
        "document_content = \"\"\n",
        "\n",
        "class AgentState(TypedDict):\n",
        "    messages: Annotated[Sequence[BaseMessage], add_messages]\n",
        "\n",
        "\n",
        "@tool\n",
        "def update(content: str) -> str:\n",
        "    \"\"\"Updates the document with the provided content.\"\"\"\n",
        "    global document_content\n",
        "    document_content = content\n",
        "    return f\"Document has been updated successfully! The current content is:\\n{document_content}\"\n",
        "\n",
        "\n",
        "@tool\n",
        "def save(filename: str) -> str:\n",
        "    \"\"\"Save the current document to a text file and finish the process.\n",
        "\n",
        "    Args:\n",
        "        filename: Name for the text file.\n",
        "    \"\"\"\n",
        "\n",
        "    global document_content\n",
        "\n",
        "    if not filename.endswith('.txt'):\n",
        "        filename = f\"{filename}.txt\"\n",
        "\n",
        "\n",
        "    try:\n",
        "        with open(filename, 'w') as file:\n",
        "            file.write(document_content)\n",
        "        print(f\"\\n💾 Document has been saved to: {filename}\")\n",
        "        return f\"Document has been saved successfully to '{filename}'.\"\n",
        "\n",
        "    except Exception as e:\n",
        "        return f\"Error saving document: {str(e)}\""
      ],
      "metadata": {
        "id": "GSF4e0QKWFzW"
      },
      "execution_count": null,
      "outputs": []
    },
    {
      "cell_type": "code",
      "source": [
        "\n",
        "\n",
        "tools = [update, save]\n",
        "\n",
        "\n",
        "groq_api_key = userdata.get(\"groq_api\")\n",
        "\n",
        "\n",
        "llm = ChatGroq(\n",
        "    model=\"llama-3.1-8b-instant\",\n",
        "    groq_api_key=groq_api_key,\n",
        ")\n",
        "\n",
        "def our_agent(state: AgentState) -> AgentState:\n",
        "    system_prompt = SystemMessage(content=f\"\"\"\n",
        "    You are Drafter, a helpful writing assistant. You are going to help the user update and modify documents.\n",
        "\n",
        "    - If the user wants to update or modify content, use the 'update' tool with the complete updated content.\n",
        "    - If the user wants to save and finish, you need to use the 'save' tool.\n",
        "    - Make sure to always show the current document state after modifications.\n",
        "\n",
        "    The current document content is:{document_content}\n",
        "    \"\"\")\n",
        "\n",
        "    if not state[\"messages\"]:\n",
        "        user_input = \"I'm ready to help you update a document. What would you like to create?\"\n",
        "        user_message = HumanMessage(content=user_input)\n",
        "\n",
        "    else:\n",
        "        user_input = input(\"\\nWhat would you like to do with the document? \")\n",
        "        print(f\"\\n👤 USER: {user_input}\")\n",
        "        user_message = HumanMessage(content=user_input)\n",
        "\n",
        "    all_messages = [system_prompt] + list(state[\"messages\"]) + [user_message]\n",
        "\n",
        "    response = llm.invoke(all_messages)\n",
        "\n",
        "    print(f\"\\n🤖 AI: {response.content}\")\n",
        "    if hasattr(response, \"tool_calls\") and response.tool_calls:\n",
        "        print(f\"🔧 USING TOOLS: {[tc['name'] for tc in response.tool_calls]}\")\n",
        "\n",
        "    return {\"messages\": list(state[\"messages\"]) + [user_message, response]}\n",
        "\n",
        "\n",
        "def should_continue(state: AgentState) -> str:\n",
        "    \"\"\"Determine if we should continue or end the conversation.\"\"\"\n",
        "\n",
        "    messages = state[\"messages\"]\n",
        "\n",
        "    if not messages:\n",
        "        return \"continue\"\n",
        "\n",
        "    # This looks for the most recent tool message....\n",
        "    for message in reversed(messages):\n",
        "        # ... and checks if this is a ToolMessage resulting from save\n",
        "        if (isinstance(message, ToolMessage) and\n",
        "            \"saved\" in message.content.lower() and\n",
        "            \"document\" in message.content.lower()):\n",
        "            return \"end\" # goes to the end edge which leads to the endpoint\n",
        "\n",
        "    return \"continue\"\n",
        "\n",
        "def print_messages(messages):\n",
        "    \"\"\"Function I made to print the messages in a more readable format\"\"\"\n",
        "    if not messages:\n",
        "        return\n",
        "\n",
        "    for message in messages[-3:]:\n",
        "        if isinstance(message, ToolMessage):\n",
        "            print(f\"\\n🛠️ TOOL RESULT: {message.content}\")"
      ],
      "metadata": {
        "id": "5h0eVO61Wa6i"
      },
      "execution_count": null,
      "outputs": []
    },
    {
      "cell_type": "code",
      "source": [
        "graph = StateGraph(AgentState)\n",
        "\n",
        "graph.add_node(\"agent\", our_agent)\n",
        "graph.add_node(\"tools\", ToolNode(tools))\n",
        "\n",
        "graph.set_entry_point(\"agent\")\n",
        "\n",
        "graph.add_edge(\"agent\", \"tools\")\n",
        "\n",
        "\n",
        "graph.add_conditional_edges(\n",
        "    \"tools\",\n",
        "    should_continue,\n",
        "    {\n",
        "        \"continue\": \"agent\",\n",
        "        \"end\": END,\n",
        "    },\n",
        ")\n",
        "\n",
        "app = graph.compile()"
      ],
      "metadata": {
        "id": "IQkJEHqGZflp"
      },
      "execution_count": null,
      "outputs": []
    },
    {
      "cell_type": "code",
      "source": [
        "from IPython.display import Image ,display\n",
        "display(Image(app.get_graph().draw_mermaid_png()))"
      ],
      "metadata": {
        "colab": {
          "base_uri": "https://localhost:8080/",
          "height": 398
        },
        "id": "PtC_g7vKZcc9",
        "outputId": "edcd40e4-bcc2-4604-93eb-5d5da69b13a6"
      },
      "execution_count": null,
      "outputs": [
        {
          "output_type": "display_data",
          "data": {
            "image/png": "[encoded data removed]",
            "text/plain": [
              "<IPython.core.display.Image object>"
            ]
          },
          "metadata": {}
        }
      ]
    },
    {
      "cell_type": "code",
      "source": [
        "\n",
        "\n",
        "\n",
        "\n",
        "def run_document_agent():\n",
        "    print(\"\\n ===== DRAFTER =====\")\n",
        "\n",
        "    state = {\"messages\": []}\n",
        "\n",
        "    for step in app.stream(state, stream_mode=\"values\"):\n",
        "        if \"messages\" in step:\n",
        "            print_messages(step[\"messages\"])\n",
        "\n",
        "    print(\"\\n ===== DRAFTER FINISHED =====\")\n",
        "\n",
        "if __name__ == \"__main__\":\n",
        "    run_document_agent()\n"
      ],
      "metadata": {
        "colab": {
          "base_uri": "https://localhost:8080/"
        },
        "id": "L00A7MSSVQqD",
        "outputId": "fc5e9997-29f8-49c1-961e-e769cdc52cdc"
      },
      "execution_count": null,
      "outputs": [
        {
          "output_type": "stream",
          "name": "stdout",
          "text": [
            "\n",
            " ===== DRAFTER =====\n",
            "\n",
            "🤖 AI: I'd like to create a company policy document. Here's a basic outline to get us started:\n",
            "\n",
            "**Company Policy Document**\n",
            "\n",
            "**Introduction**\n",
            "\n",
            "Our company values our employees and strives to create a safe, inclusive, and productive work environment. This policy document outlines our expectations, guidelines, and procedures to ensure a positive and successful work experience.\n",
            "\n",
            "**Current Document Content:**\n",
            "```markdown\n",
            "# Company Policy Document\n",
            "\n",
            "## Introduction\n",
            "Our company values our employees and strives to create a safe, inclusive, and productive work environment. This policy document outlines our expectations, guidelines, and procedures to ensure a positive and successful work experience.\n",
            "\n",
            "## Code of Conduct\n",
            "All employees are expected to adhere to the following code of conduct:\n",
            "\n",
            "- Treat all colleagues with respect and dignity\n",
            "- Maintain confidentiality and protect company secrets\n",
            "- Refrain from any form of harassment or bullying\n",
            "\n",
            "## Reporting Incidents\n",
            "If you witness or experience any incidents that violate our code of conduct, please report them to your supervisor or HR representative immediately.\n",
            "\n",
            "## Current Document State**\n",
            "```\n",
            "Please let me know what you'd like to update or modify. You can use the 'update' tool with the complete updated content.\n"
          ]
        }
      ]
    },
    {
      "cell_type": "code",
      "source": [],
      "metadata": {
        "id": "1INv6pM89i0s"
      },
      "execution_count": null,
      "outputs": []
    }
  ]
}